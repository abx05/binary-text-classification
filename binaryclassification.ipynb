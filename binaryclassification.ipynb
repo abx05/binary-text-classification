{
 "cells": [
  {
   "cell_type": "markdown",
   "id": "0b8c6d75-af93-4227-9bea-ca773fecae62",
   "metadata": {},
   "source": [
    "<font size=7>**Binary Text Classification**</font>"
   ]
  },
  {
   "cell_type": "markdown",
   "id": "43f925a1-de19-4e29-8798-1131cc28b94f",
   "metadata": {},
   "source": [
    "<font size=6>**Splitting and Prepping data**</font>"
   ]
  },
  {
   "cell_type": "code",
   "execution_count": 1,
   "id": "a707541c-cd5d-4efe-a7ce-3006fcba17dd",
   "metadata": {},
   "outputs": [],
   "source": [
    "import torchtext"
   ]
  },
  {
   "cell_type": "code",
   "execution_count": 2,
   "id": "7c79d39a-117b-4ec6-84db-0ce430763202",
   "metadata": {},
   "outputs": [],
   "source": [
    "import pandas as pd\n",
    "from sklearn.model_selection import train_test_split\n",
    "from sklearn.metrics import accuracy_score\n",
    "from collections import Counter"
   ]
  },
  {
   "cell_type": "code",
   "execution_count": 3,
   "id": "21febd89-6bfb-491f-ab03-b741638d0f45",
   "metadata": {},
   "outputs": [
    {
     "data": {
      "text/html": [
       "<div>\n",
       "<style scoped>\n",
       "    .dataframe tbody tr th:only-of-type {\n",
       "        vertical-align: middle;\n",
       "    }\n",
       "\n",
       "    .dataframe tbody tr th {\n",
       "        vertical-align: top;\n",
       "    }\n",
       "\n",
       "    .dataframe thead th {\n",
       "        text-align: right;\n",
       "    }\n",
       "</style>\n",
       "<table border=\"1\" class=\"dataframe\">\n",
       "  <thead>\n",
       "    <tr style=\"text-align: right;\">\n",
       "      <th></th>\n",
       "      <th>v1</th>\n",
       "      <th>v2</th>\n",
       "      <th>Unnamed: 2</th>\n",
       "      <th>Unnamed: 3</th>\n",
       "      <th>Unnamed: 4</th>\n",
       "    </tr>\n",
       "  </thead>\n",
       "  <tbody>\n",
       "    <tr>\n",
       "      <th>0</th>\n",
       "      <td>ham</td>\n",
       "      <td>Go until jurong point, crazy.. Available only ...</td>\n",
       "      <td>NaN</td>\n",
       "      <td>NaN</td>\n",
       "      <td>NaN</td>\n",
       "    </tr>\n",
       "    <tr>\n",
       "      <th>1</th>\n",
       "      <td>ham</td>\n",
       "      <td>Ok lar... Joking wif u oni...</td>\n",
       "      <td>NaN</td>\n",
       "      <td>NaN</td>\n",
       "      <td>NaN</td>\n",
       "    </tr>\n",
       "    <tr>\n",
       "      <th>2</th>\n",
       "      <td>spam</td>\n",
       "      <td>Free entry in 2 a wkly comp to win FA Cup fina...</td>\n",
       "      <td>NaN</td>\n",
       "      <td>NaN</td>\n",
       "      <td>NaN</td>\n",
       "    </tr>\n",
       "    <tr>\n",
       "      <th>3</th>\n",
       "      <td>ham</td>\n",
       "      <td>U dun say so early hor... U c already then say...</td>\n",
       "      <td>NaN</td>\n",
       "      <td>NaN</td>\n",
       "      <td>NaN</td>\n",
       "    </tr>\n",
       "    <tr>\n",
       "      <th>4</th>\n",
       "      <td>ham</td>\n",
       "      <td>Nah I don't think he goes to usf, he lives aro...</td>\n",
       "      <td>NaN</td>\n",
       "      <td>NaN</td>\n",
       "      <td>NaN</td>\n",
       "    </tr>\n",
       "    <tr>\n",
       "      <th>5</th>\n",
       "      <td>spam</td>\n",
       "      <td>FreeMsg Hey there darling it's been 3 week's n...</td>\n",
       "      <td>NaN</td>\n",
       "      <td>NaN</td>\n",
       "      <td>NaN</td>\n",
       "    </tr>\n",
       "    <tr>\n",
       "      <th>6</th>\n",
       "      <td>ham</td>\n",
       "      <td>Even my brother is not like to speak with me. ...</td>\n",
       "      <td>NaN</td>\n",
       "      <td>NaN</td>\n",
       "      <td>NaN</td>\n",
       "    </tr>\n",
       "  </tbody>\n",
       "</table>\n",
       "</div>"
      ],
      "text/plain": [
       "     v1                                                 v2 Unnamed: 2  \\\n",
       "0   ham  Go until jurong point, crazy.. Available only ...        NaN   \n",
       "1   ham                      Ok lar... Joking wif u oni...        NaN   \n",
       "2  spam  Free entry in 2 a wkly comp to win FA Cup fina...        NaN   \n",
       "3   ham  U dun say so early hor... U c already then say...        NaN   \n",
       "4   ham  Nah I don't think he goes to usf, he lives aro...        NaN   \n",
       "5  spam  FreeMsg Hey there darling it's been 3 week's n...        NaN   \n",
       "6   ham  Even my brother is not like to speak with me. ...        NaN   \n",
       "\n",
       "  Unnamed: 3 Unnamed: 4  \n",
       "0        NaN        NaN  \n",
       "1        NaN        NaN  \n",
       "2        NaN        NaN  \n",
       "3        NaN        NaN  \n",
       "4        NaN        NaN  \n",
       "5        NaN        NaN  \n",
       "6        NaN        NaN  "
      ]
     },
     "execution_count": 3,
     "metadata": {},
     "output_type": "execute_result"
    }
   ],
   "source": [
    "data = pd.read_csv(r'/media/abx05/DATA/datasets/nlpwithpytorch/datasets/ham-spam/spam.csv',encoding='latin1')\n",
    "data.head(7)"
   ]
  },
  {
   "cell_type": "code",
   "execution_count": 4,
   "id": "56033742-6ae9-48b9-8096-043e2abf5feb",
   "metadata": {},
   "outputs": [],
   "source": [
    "data = data.drop(data.iloc[:,2:5].columns, axis=1)"
   ]
  },
  {
   "cell_type": "code",
   "execution_count": 5,
   "id": "86a9c952-dcd8-4f84-9473-8375dc5a9bec",
   "metadata": {},
   "outputs": [
    {
     "data": {
      "text/html": [
       "<div>\n",
       "<style scoped>\n",
       "    .dataframe tbody tr th:only-of-type {\n",
       "        vertical-align: middle;\n",
       "    }\n",
       "\n",
       "    .dataframe tbody tr th {\n",
       "        vertical-align: top;\n",
       "    }\n",
       "\n",
       "    .dataframe thead th {\n",
       "        text-align: right;\n",
       "    }\n",
       "</style>\n",
       "<table border=\"1\" class=\"dataframe\">\n",
       "  <thead>\n",
       "    <tr style=\"text-align: right;\">\n",
       "      <th></th>\n",
       "      <th>v1</th>\n",
       "      <th>v2</th>\n",
       "    </tr>\n",
       "  </thead>\n",
       "  <tbody>\n",
       "    <tr>\n",
       "      <th>0</th>\n",
       "      <td>ham</td>\n",
       "      <td>Go until jurong point, crazy.. Available only ...</td>\n",
       "    </tr>\n",
       "    <tr>\n",
       "      <th>1</th>\n",
       "      <td>ham</td>\n",
       "      <td>Ok lar... Joking wif u oni...</td>\n",
       "    </tr>\n",
       "    <tr>\n",
       "      <th>2</th>\n",
       "      <td>spam</td>\n",
       "      <td>Free entry in 2 a wkly comp to win FA Cup fina...</td>\n",
       "    </tr>\n",
       "    <tr>\n",
       "      <th>3</th>\n",
       "      <td>ham</td>\n",
       "      <td>U dun say so early hor... U c already then say...</td>\n",
       "    </tr>\n",
       "    <tr>\n",
       "      <th>4</th>\n",
       "      <td>ham</td>\n",
       "      <td>Nah I don't think he goes to usf, he lives aro...</td>\n",
       "    </tr>\n",
       "    <tr>\n",
       "      <th>5</th>\n",
       "      <td>spam</td>\n",
       "      <td>FreeMsg Hey there darling it's been 3 week's n...</td>\n",
       "    </tr>\n",
       "    <tr>\n",
       "      <th>6</th>\n",
       "      <td>ham</td>\n",
       "      <td>Even my brother is not like to speak with me. ...</td>\n",
       "    </tr>\n",
       "  </tbody>\n",
       "</table>\n",
       "</div>"
      ],
      "text/plain": [
       "     v1                                                 v2\n",
       "0   ham  Go until jurong point, crazy.. Available only ...\n",
       "1   ham                      Ok lar... Joking wif u oni...\n",
       "2  spam  Free entry in 2 a wkly comp to win FA Cup fina...\n",
       "3   ham  U dun say so early hor... U c already then say...\n",
       "4   ham  Nah I don't think he goes to usf, he lives aro...\n",
       "5  spam  FreeMsg Hey there darling it's been 3 week's n...\n",
       "6   ham  Even my brother is not like to speak with me. ..."
      ]
     },
     "execution_count": 5,
     "metadata": {},
     "output_type": "execute_result"
    }
   ],
   "source": [
    "data.head(7)"
   ]
  },
  {
   "cell_type": "code",
   "execution_count": 6,
   "id": "9f9b2acb-4aee-4e55-ad25-b183de8b2e87",
   "metadata": {},
   "outputs": [
    {
     "data": {
      "text/html": [
       "<div>\n",
       "<style scoped>\n",
       "    .dataframe tbody tr th:only-of-type {\n",
       "        vertical-align: middle;\n",
       "    }\n",
       "\n",
       "    .dataframe tbody tr th {\n",
       "        vertical-align: top;\n",
       "    }\n",
       "\n",
       "    .dataframe thead th {\n",
       "        text-align: right;\n",
       "    }\n",
       "</style>\n",
       "<table border=\"1\" class=\"dataframe\">\n",
       "  <thead>\n",
       "    <tr style=\"text-align: right;\">\n",
       "      <th></th>\n",
       "      <th>labels</th>\n",
       "      <th>text</th>\n",
       "    </tr>\n",
       "  </thead>\n",
       "  <tbody>\n",
       "    <tr>\n",
       "      <th>0</th>\n",
       "      <td>ham</td>\n",
       "      <td>Go until jurong point, crazy.. Available only ...</td>\n",
       "    </tr>\n",
       "    <tr>\n",
       "      <th>1</th>\n",
       "      <td>ham</td>\n",
       "      <td>Ok lar... Joking wif u oni...</td>\n",
       "    </tr>\n",
       "    <tr>\n",
       "      <th>2</th>\n",
       "      <td>spam</td>\n",
       "      <td>Free entry in 2 a wkly comp to win FA Cup fina...</td>\n",
       "    </tr>\n",
       "    <tr>\n",
       "      <th>3</th>\n",
       "      <td>ham</td>\n",
       "      <td>U dun say so early hor... U c already then say...</td>\n",
       "    </tr>\n",
       "    <tr>\n",
       "      <th>4</th>\n",
       "      <td>ham</td>\n",
       "      <td>Nah I don't think he goes to usf, he lives aro...</td>\n",
       "    </tr>\n",
       "    <tr>\n",
       "      <th>5</th>\n",
       "      <td>spam</td>\n",
       "      <td>FreeMsg Hey there darling it's been 3 week's n...</td>\n",
       "    </tr>\n",
       "    <tr>\n",
       "      <th>6</th>\n",
       "      <td>ham</td>\n",
       "      <td>Even my brother is not like to speak with me. ...</td>\n",
       "    </tr>\n",
       "  </tbody>\n",
       "</table>\n",
       "</div>"
      ],
      "text/plain": [
       "  labels                                               text\n",
       "0    ham  Go until jurong point, crazy.. Available only ...\n",
       "1    ham                      Ok lar... Joking wif u oni...\n",
       "2   spam  Free entry in 2 a wkly comp to win FA Cup fina...\n",
       "3    ham  U dun say so early hor... U c already then say...\n",
       "4    ham  Nah I don't think he goes to usf, he lives aro...\n",
       "5   spam  FreeMsg Hey there darling it's been 3 week's n...\n",
       "6    ham  Even my brother is not like to speak with me. ..."
      ]
     },
     "execution_count": 6,
     "metadata": {},
     "output_type": "execute_result"
    }
   ],
   "source": [
    "data = data.rename(index=str,columns={'v1':'labels', 'v2':'text'})\n",
    "data.head(7)"
   ]
  },
  {
   "cell_type": "code",
   "execution_count": 7,
   "id": "55b24ade-4798-4778-93ae-9f9fa0fb6937",
   "metadata": {},
   "outputs": [
    {
     "data": {
      "text/plain": [
       "(Counter({'ham': 3860, 'spam': 597}), Counter({'ham': 965, 'spam': 150}))"
      ]
     },
     "execution_count": 7,
     "metadata": {},
     "output_type": "execute_result"
    }
   ],
   "source": [
    "train,test = train_test_split(data,test_size=0.2,random_state=37)\n",
    "Counter(train['labels']),Counter(test['labels'])"
   ]
  },
  {
   "cell_type": "code",
   "execution_count": 8,
   "id": "7d11008e-c67b-46a7-8871-243368fd395e",
   "metadata": {},
   "outputs": [
    {
     "data": {
      "text/html": [
       "<div>\n",
       "<style scoped>\n",
       "    .dataframe tbody tr th:only-of-type {\n",
       "        vertical-align: middle;\n",
       "    }\n",
       "\n",
       "    .dataframe tbody tr th {\n",
       "        vertical-align: top;\n",
       "    }\n",
       "\n",
       "    .dataframe thead th {\n",
       "        text-align: right;\n",
       "    }\n",
       "</style>\n",
       "<table border=\"1\" class=\"dataframe\">\n",
       "  <thead>\n",
       "    <tr style=\"text-align: right;\">\n",
       "      <th></th>\n",
       "      <th>labels</th>\n",
       "      <th>text</th>\n",
       "    </tr>\n",
       "  </thead>\n",
       "  <tbody>\n",
       "    <tr>\n",
       "      <th>0</th>\n",
       "      <td>ham</td>\n",
       "      <td>Aight well keep me informed</td>\n",
       "    </tr>\n",
       "    <tr>\n",
       "      <th>1</th>\n",
       "      <td>ham</td>\n",
       "      <td>Hi. Happy New Year. I dont mean to intrude but...</td>\n",
       "    </tr>\n",
       "    <tr>\n",
       "      <th>2</th>\n",
       "      <td>ham</td>\n",
       "      <td>Do u konw waht is rael FRIENDSHIP Im gving yuo...</td>\n",
       "    </tr>\n",
       "    <tr>\n",
       "      <th>3</th>\n",
       "      <td>ham</td>\n",
       "      <td>Sorry i din lock my keypad.</td>\n",
       "    </tr>\n",
       "    <tr>\n",
       "      <th>4</th>\n",
       "      <td>spam</td>\n",
       "      <td>Not heard from U4 a while. Call 4 rude chat pr...</td>\n",
       "    </tr>\n",
       "    <tr>\n",
       "      <th>5</th>\n",
       "      <td>ham</td>\n",
       "      <td>Short But Cute : \\ Be a good person</td>\n",
       "    </tr>\n",
       "    <tr>\n",
       "      <th>6</th>\n",
       "      <td>spam</td>\n",
       "      <td>+123 Congratulations - in this week's competit...</td>\n",
       "    </tr>\n",
       "  </tbody>\n",
       "</table>\n",
       "</div>"
      ],
      "text/plain": [
       "  labels                                               text\n",
       "0    ham                        Aight well keep me informed\n",
       "1    ham  Hi. Happy New Year. I dont mean to intrude but...\n",
       "2    ham  Do u konw waht is rael FRIENDSHIP Im gving yuo...\n",
       "3    ham                        Sorry i din lock my keypad.\n",
       "4   spam  Not heard from U4 a while. Call 4 rude chat pr...\n",
       "5    ham               Short But Cute : \\ Be a good person \n",
       "6   spam  +123 Congratulations - in this week's competit..."
      ]
     },
     "execution_count": 8,
     "metadata": {},
     "output_type": "execute_result"
    }
   ],
   "source": [
    "train.reset_index(drop=True,inplace=True),test.reset_index(drop=True,inplace=True)\n",
    "train.head(7)"
   ]
  },
  {
   "cell_type": "code",
   "execution_count": 9,
   "id": "6195b8cb-2bce-4854-84b0-00df774ec62b",
   "metadata": {},
   "outputs": [
    {
     "data": {
      "text/plain": [
       "((4457, 2), (1115, 2))"
      ]
     },
     "execution_count": 9,
     "metadata": {},
     "output_type": "execute_result"
    }
   ],
   "source": [
    "train.shape,test.shape"
   ]
  },
  {
   "cell_type": "code",
   "execution_count": 10,
   "id": "5f678863-7d34-4979-815b-1248a91316b8",
   "metadata": {},
   "outputs": [],
   "source": [
    "#save these files to be used again in the future"
   ]
  },
  {
   "cell_type": "markdown",
   "id": "0e70178d-f7e6-4fcb-a850-3d8018bbc149",
   "metadata": {},
   "source": [
    "<font size=6>**Preprocessing**</font>"
   ]
  },
  {
   "cell_type": "code",
   "execution_count": 11,
   "id": "95ebb224-f3a3-49e2-a7a6-bba68f1db12d",
   "metadata": {},
   "outputs": [],
   "source": [
    "import numpy as np"
   ]
  },
  {
   "cell_type": "code",
   "execution_count": 12,
   "id": "e3a9e9b3-0897-49ff-9895-0e47e6847c63",
   "metadata": {},
   "outputs": [],
   "source": [
    "import torch\n",
    "import torchtext\n",
    "from torchtext.legacy.data import Field,BucketIterator,TabularDataset,LabelField\n",
    "from torchtext.data.utils import get_tokenizer"
   ]
  },
  {
   "cell_type": "code",
   "execution_count": 13,
   "id": "1a8eb87e-d8c2-4b24-8421-8ebea0acb2f1",
   "metadata": {},
   "outputs": [],
   "source": [
    "import nltk\n",
    "from nltk import word_tokenize"
   ]
  },
  {
   "cell_type": "code",
   "execution_count": 14,
   "id": "5ab7b55a-8bee-41f0-ae9b-8395ac541d57",
   "metadata": {},
   "outputs": [],
   "source": [
    "TEXT = Field(tokenize=word_tokenize)"
   ]
  },
  {
   "cell_type": "code",
   "execution_count": 15,
   "id": "73f26e6d-33b1-4025-aca2-4556b78c9768",
   "metadata": {},
   "outputs": [],
   "source": [
    "LABEL = LabelField(dtype=torch.float)"
   ]
  },
  {
   "cell_type": "code",
   "execution_count": 16,
   "id": "a8a405d5-0a9a-4103-a943-b87d9b3db362",
   "metadata": {},
   "outputs": [],
   "source": [
    "datafields = [('labels',LABEL),('text',TEXT)]"
   ]
  },
  {
   "cell_type": "code",
   "execution_count": 17,
   "id": "0970180d-c172-4a16-bcd4-8a905c9a350e",
   "metadata": {},
   "outputs": [],
   "source": [
    "train,test = TabularDataset.splits(path = '/media/abx05/DATA/datasets/nlpwithpytorch/datasets/ham-spam',\n",
    "                                                 train = 'train.csv',\n",
    "                                                 test = 'test.csv',\n",
    "                                                 format='csv',\n",
    "                                                 skip_header=True,\n",
    "                                                 fields = datafields)"
   ]
  },
  {
   "cell_type": "code",
   "execution_count": 18,
   "id": "4b2f7bf8-e4bc-4f06-b771-99b490cb95c1",
   "metadata": {},
   "outputs": [
    {
     "data": {
      "text/plain": [
       "[<torchtext.legacy.data.example.Example at 0x7f0a980c19a0>,\n",
       " <torchtext.legacy.data.example.Example at 0x7f0a94df6c70>,\n",
       " <torchtext.legacy.data.example.Example at 0x7f0a94df6c40>,\n",
       " <torchtext.legacy.data.example.Example at 0x7f0a992b3c10>,\n",
       " <torchtext.legacy.data.example.Example at 0x7f0a980c1df0>]"
      ]
     },
     "execution_count": 18,
     "metadata": {},
     "output_type": "execute_result"
    }
   ],
   "source": [
    "train[:5]"
   ]
  },
  {
   "cell_type": "code",
   "execution_count": 19,
   "id": "21c28f38-f2ed-4571-9df6-47c1f0d67359",
   "metadata": {},
   "outputs": [
    {
     "data": {
      "text/plain": [
       "(4457, 1115)"
      ]
     },
     "execution_count": 19,
     "metadata": {},
     "output_type": "execute_result"
    }
   ],
   "source": [
    "len(train),len(test)"
   ]
  },
  {
   "cell_type": "code",
   "execution_count": 20,
   "id": "baad9aa7-e726-40c5-abd4-0cc3958b6c2d",
   "metadata": {
    "scrolled": true,
    "tags": []
   },
   "outputs": [
    {
     "data": {
      "text/plain": [
       "['PRIVATE',\n",
       " '!',\n",
       " 'Your',\n",
       " '2003',\n",
       " 'Account',\n",
       " 'Statement',\n",
       " 'for',\n",
       " '07973788240',\n",
       " 'shows',\n",
       " '800',\n",
       " 'un-redeemed',\n",
       " 'S.',\n",
       " 'I.',\n",
       " 'M.',\n",
       " 'points',\n",
       " '.',\n",
       " 'Call',\n",
       " '08715203649',\n",
       " 'Identifier',\n",
       " 'Code',\n",
       " ':',\n",
       " '40533',\n",
       " 'Expires',\n",
       " '31/10/04']"
      ]
     },
     "execution_count": 20,
     "metadata": {},
     "output_type": "execute_result"
    }
   ],
   "source": [
    "train[4].text"
   ]
  },
  {
   "cell_type": "code",
   "execution_count": 21,
   "id": "15aeb570-d35a-4cd3-bfa7-60357a48acd4",
   "metadata": {},
   "outputs": [
    {
     "data": {
      "text/plain": [
       "'spam'"
      ]
     },
     "execution_count": 21,
     "metadata": {},
     "output_type": "execute_result"
    }
   ],
   "source": [
    "train[4].labels"
   ]
  },
  {
   "cell_type": "code",
   "execution_count": 22,
   "id": "b0a83780-5c83-423f-8f7d-3295d8a8c01e",
   "metadata": {},
   "outputs": [],
   "source": [
    "TEXT.build_vocab(train,max_size=10500)"
   ]
  },
  {
   "cell_type": "code",
   "execution_count": 23,
   "id": "6fd5190a-7f04-4f32-8552-0df9f1d40e4d",
   "metadata": {},
   "outputs": [],
   "source": [
    "LABEL.build_vocab(test)"
   ]
  },
  {
   "cell_type": "code",
   "execution_count": 24,
   "id": "abab3ede-1b1b-4a67-9126-4e36411a00b6",
   "metadata": {},
   "outputs": [
    {
     "data": {
      "text/plain": [
       "(10207, 2)"
      ]
     },
     "execution_count": 24,
     "metadata": {},
     "output_type": "execute_result"
    }
   ],
   "source": [
    "len(TEXT.vocab),len(LABEL.vocab)"
   ]
  },
  {
   "cell_type": "code",
   "execution_count": 25,
   "id": "09e12f09-77a9-4dee-9475-1e62b5560e8e",
   "metadata": {
    "scrolled": true,
    "tags": []
   },
   "outputs": [
    {
     "data": {
      "text/plain": [
       "[('.', 3862),\n",
       " ('to', 1750),\n",
       " ('I', 1574),\n",
       " (',', 1468),\n",
       " ('you', 1462),\n",
       " ('?', 1256),\n",
       " ('!', 1134),\n",
       " ('a', 1068),\n",
       " ('the', 946),\n",
       " ('...', 923),\n",
       " ('&', 772),\n",
       " ('i', 760),\n",
       " ('and', 673),\n",
       " ('in', 663),\n",
       " ('is', 647),\n",
       " (';', 641),\n",
       " ('u', 636),\n",
       " ('me', 600),\n",
       " (':', 570),\n",
       " ('..', 544),\n",
       " ('for', 527),\n",
       " ('my', 494),\n",
       " ('of', 471),\n",
       " ('it', 470),\n",
       " ('your', 461),\n",
       " ('have', 395),\n",
       " ('on', 394),\n",
       " (')', 393),\n",
       " ('2', 390),\n",
       " ('that', 385),\n",
       " (\"'s\", 384),\n",
       " ('now', 321),\n",
       " (\"'m\", 320),\n",
       " ('are', 316),\n",
       " ('do', 312),\n",
       " ('call', 307),\n",
       " ('at', 301),\n",
       " ('U', 300),\n",
       " ('or', 298),\n",
       " ('not', 295),\n",
       " (\"n't\", 281),\n",
       " ('be', 275),\n",
       " ('*', 270),\n",
       " ('lt', 267),\n",
       " ('gt', 267),\n",
       " ('with', 267),\n",
       " ('get', 265),\n",
       " ('will', 264),\n",
       " ('so', 257),\n",
       " ('#', 245)]"
      ]
     },
     "execution_count": 25,
     "metadata": {},
     "output_type": "execute_result"
    }
   ],
   "source": [
    "TEXT.vocab.freqs.most_common(50)"
   ]
  },
  {
   "cell_type": "code",
   "execution_count": 26,
   "id": "994854e2-8915-45e3-b0f6-ab7c6c49b186",
   "metadata": {},
   "outputs": [
    {
     "data": {
      "text/plain": [
       "defaultdict(None, {'ham': 0, 'spam': 1})"
      ]
     },
     "execution_count": 26,
     "metadata": {},
     "output_type": "execute_result"
    }
   ],
   "source": [
    "LABEL.vocab.stoi"
   ]
  },
  {
   "cell_type": "code",
   "execution_count": 27,
   "id": "55fd6ab0-3fe0-4862-aa98-92f34c4fa794",
   "metadata": {},
   "outputs": [],
   "source": [
    "bs = 64\n",
    "\n",
    "train_iterator,test_iterator = BucketIterator.splits(\n",
    "    (train,test),\n",
    "    batch_size = bs,\n",
    "    sort_key = lambda x: len(x.text),\n",
    "    sort_within_batch = False)"
   ]
  },
  {
   "cell_type": "markdown",
   "id": "864dc181-32d0-440d-b0b2-3098e4605455",
   "metadata": {},
   "source": [
    "<font size=6>**RNN Model**</font>"
   ]
  },
  {
   "cell_type": "code",
   "execution_count": 54,
   "id": "5eb327bd-e5eb-4a5b-9e92-89756afae562",
   "metadata": {},
   "outputs": [],
   "source": [
    "import torch.nn as nn\n",
    "import torch.optim as optim"
   ]
  },
  {
   "cell_type": "code",
   "execution_count": 138,
   "id": "642c4c8f-0142-491d-8698-ac1444e88114",
   "metadata": {},
   "outputs": [],
   "source": [
    "class RNN(nn.Module):\n",
    "    def __init__(self,input_size,embed_size,hidden_size,output_size):\n",
    "        super(RNN,self).__init__()\n",
    "        self.embedding = nn.Embedding(input_size,embed_size)\n",
    "        self.rnn = nn.LSTM(embed_size,hidden_size)\n",
    "        self.fc = nn.Linear(hidden_size,output_size)\n",
    "        self.dropout = nn.Dropout(0.25)\n",
    "        \n",
    "    def forward(self,input_text):\n",
    "        embedded = self.embedding(input_text)\n",
    "        embedded_dropout = self.dropout(embedded)\n",
    "        output,(hidden,_) = self.rnn(embedded_dropout)\n",
    "        hidden = hidden.squeeze(0)\n",
    "        assert torch.equal(output[-1,:,:],hidden)\n",
    "        return self.fc(hidden)\n",
    "        "
   ]
  },
  {
   "cell_type": "code",
   "execution_count": 139,
   "id": "215e93bc-2cbe-4747-bd60-6a6075792f0a",
   "metadata": {},
   "outputs": [],
   "source": [
    "input_size = len(TEXT.vocab)\n",
    "embed_size = 100\n",
    "hidden_size = 256\n",
    "output_size = 1"
   ]
  },
  {
   "cell_type": "code",
   "execution_count": 140,
   "id": "b0e3d334-033d-4941-a953-22f47f49b9b6",
   "metadata": {},
   "outputs": [],
   "source": [
    "model = RNN(input_size,embed_size,hidden_size,output_size)"
   ]
  },
  {
   "cell_type": "code",
   "execution_count": 151,
   "id": "2a97748c-3a94-4031-b6f0-93ebe9ac0c73",
   "metadata": {},
   "outputs": [],
   "source": [
    "optimizer = optim.Adam(model.parameters(),lr=1e-6)"
   ]
  },
  {
   "cell_type": "code",
   "execution_count": 152,
   "id": "0f2480fe-2d7c-4776-a7bb-5be47abefb5f",
   "metadata": {},
   "outputs": [],
   "source": [
    "criterion = nn.BCEWithLogitsLoss()"
   ]
  },
  {
   "cell_type": "code",
   "execution_count": 153,
   "id": "a1312c0b-0533-4642-84c8-533bd692b31e",
   "metadata": {},
   "outputs": [],
   "source": [
    "def train(model, iterator, optimizer, criterion):\n",
    "    \n",
    "    epoch_loss = 0\n",
    "    epoch_acc = 0\n",
    "    \n",
    "    model.train()\n",
    "    \n",
    "    for batch in iterator:\n",
    "        \n",
    "        optimizer.zero_grad()\n",
    "                \n",
    "        predictions = model(batch.text).squeeze(1)\n",
    "        \n",
    "        loss = criterion(predictions, batch.labels)\n",
    "        \n",
    "        rounded_preds = torch.round(torch.sigmoid(predictions))\n",
    "        correct = (rounded_preds == batch.labels).float() \n",
    "        \n",
    "        acc = correct.sum() / len(correct)\n",
    "        \n",
    "        loss.backward()\n",
    "        \n",
    "        optimizer.step()\n",
    "        \n",
    "        epoch_loss += loss.item()\n",
    "        epoch_acc += acc.item()\n",
    "        \n",
    "    return epoch_loss / len(iterator), epoch_acc / len(iterator)"
   ]
  },
  {
   "cell_type": "code",
   "execution_count": 178,
   "id": "40dcf091-6756-405d-bc43-4273ed4a266c",
   "metadata": {
    "scrolled": true,
    "tags": []
   },
   "outputs": [
    {
     "name": "stdout",
     "output_type": "stream",
     "text": [
      "0 0.40441112262862067 85.33645468098777\n",
      "1 0.4045392717633929 85.33645468098777\n",
      "2 0.40229017181055887 85.36149825368608\n",
      "3 0.40388022852795463 85.5123039654323\n",
      "4 0.40205465384892053 85.56674650737217\n",
      "5 0.3999584395970617 85.58743468352726\n"
     ]
    }
   ],
   "source": [
    "epochs = 6\n",
    "\n",
    "for epoch in range(epochs):\n",
    "    train_loss,train_acc = train(model,train_iterator,optimizer,loss)\n",
    "    print(epoch,train_loss,train_acc*100)\n"
   ]
  },
  {
   "cell_type": "code",
   "execution_count": 179,
   "id": "39cd3a7c-7b33-4bf5-b869-a1a6b1353e5b",
   "metadata": {},
   "outputs": [],
   "source": [
    "epoch_loss = 0\n",
    "epoch_acc = 0"
   ]
  },
  {
   "cell_type": "code",
   "execution_count": 180,
   "id": "080ab8df-439a-49f2-9eab-7fa313abce99",
   "metadata": {},
   "outputs": [
    {
     "data": {
      "text/plain": [
       "RNN(\n",
       "  (embedding): Embedding(10207, 100)\n",
       "  (rnn): LSTM(100, 256)\n",
       "  (fc): Linear(in_features=256, out_features=1, bias=True)\n",
       "  (dropout): Dropout(p=0.25, inplace=False)\n",
       ")"
      ]
     },
     "execution_count": 180,
     "metadata": {},
     "output_type": "execute_result"
    }
   ],
   "source": [
    "model.eval()"
   ]
  },
  {
   "cell_type": "code",
   "execution_count": 181,
   "id": "2bc9a852-9322-443f-bb0c-89ae768d27c0",
   "metadata": {},
   "outputs": [
    {
     "data": {
      "text/plain": [
       "(0.5939175056086646, 0.7010673880577087)"
      ]
     },
     "execution_count": 181,
     "metadata": {},
     "output_type": "execute_result"
    }
   ],
   "source": [
    "with torch.no_grad():\n",
    "    for batch in test_iterator:\n",
    "        predictions = model(batch.text).squeeze(1)\n",
    "        loss_value = loss(predictions,batch.labels)\n",
    "        rounded_preds = torch.round(torch.sigmoid(predictions)).float()\n",
    "        correct_preds = (rounded_preds==batch.labels)\n",
    "        acc = correct_preds.sum() / len(correct_preds)\n",
    "        \n",
    "        epoch_loss += loss_value.item()\n",
    "        epoch_acc += acc.item()\n",
    "        \n",
    "test_loss = epoch_loss / len(test_iterator)\n",
    "test_acc  = epoch_acc  / len(test_iterator)\n",
    "\n",
    "test_loss,test_acc"
   ]
  },
  {
   "cell_type": "code",
   "execution_count": null,
   "id": "e3b7c175-86e2-41c5-ab1f-178e73ce1f8b",
   "metadata": {},
   "outputs": [],
   "source": []
  }
 ],
 "metadata": {
  "kernelspec": {
   "display_name": "Pytorch",
   "language": "python",
   "name": "pytorch"
  },
  "language_info": {
   "codemirror_mode": {
    "name": "ipython",
    "version": 3
   },
   "file_extension": ".py",
   "mimetype": "text/x-python",
   "name": "python",
   "nbconvert_exporter": "python",
   "pygments_lexer": "ipython3",
   "version": "3.8.8"
  }
 },
 "nbformat": 4,
 "nbformat_minor": 5
}
